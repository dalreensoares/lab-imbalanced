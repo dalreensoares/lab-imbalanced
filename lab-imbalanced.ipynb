{
 "cells": [
  {
   "cell_type": "markdown",
   "metadata": {},
   "source": [
    "# LAB | Imbalanced"
   ]
  },
  {
   "cell_type": "markdown",
   "metadata": {},
   "source": [
    "**Load the data**\n",
    "\n",
    "In this challenge, we will be working with Credit Card Fraud dataset.\n",
    "\n",
    "https://raw.githubusercontent.com/data-bootcamp-v4/data/main/card_transdata.csv\n",
    "\n",
    "Metadata\n",
    "\n",
    "- **distance_from_home:** the distance from home where the transaction happened.\n",
    "- **distance_from_last_transaction:** the distance from last transaction happened.\n",
    "- **ratio_to_median_purchase_price:** Ratio of purchased price transaction to median purchase price.\n",
    "- **repeat_retailer:** Is the transaction happened from same retailer.\n",
    "- **used_chip:** Is the transaction through chip (credit card).\n",
    "- **used_pin_number:** Is the transaction happened by using PIN number.\n",
    "- **online_order:** Is the transaction an online order.\n",
    "- **fraud:** Is the transaction fraudulent. **0=legit** -  **1=fraud**\n"
   ]
  },
  {
   "cell_type": "code",
   "execution_count": 4,
   "metadata": {},
   "outputs": [],
   "source": [
    "#Libraries\n",
    "import pandas as pd\n",
    "import numpy as np\n",
    "import seaborn as sns\n",
    "import matplotlib.pyplot as plt\n",
    "\n",
    "from sklearn.model_selection import train_test_split"
   ]
  },
  {
   "cell_type": "code",
   "execution_count": 2,
   "metadata": {},
   "outputs": [
    {
     "data": {
      "text/html": [
       "<div>\n",
       "<style scoped>\n",
       "    .dataframe tbody tr th:only-of-type {\n",
       "        vertical-align: middle;\n",
       "    }\n",
       "\n",
       "    .dataframe tbody tr th {\n",
       "        vertical-align: top;\n",
       "    }\n",
       "\n",
       "    .dataframe thead th {\n",
       "        text-align: right;\n",
       "    }\n",
       "</style>\n",
       "<table border=\"1\" class=\"dataframe\">\n",
       "  <thead>\n",
       "    <tr style=\"text-align: right;\">\n",
       "      <th></th>\n",
       "      <th>distance_from_home</th>\n",
       "      <th>distance_from_last_transaction</th>\n",
       "      <th>ratio_to_median_purchase_price</th>\n",
       "      <th>repeat_retailer</th>\n",
       "      <th>used_chip</th>\n",
       "      <th>used_pin_number</th>\n",
       "      <th>online_order</th>\n",
       "      <th>fraud</th>\n",
       "    </tr>\n",
       "  </thead>\n",
       "  <tbody>\n",
       "    <tr>\n",
       "      <th>0</th>\n",
       "      <td>57.877857</td>\n",
       "      <td>0.311140</td>\n",
       "      <td>1.945940</td>\n",
       "      <td>1.0</td>\n",
       "      <td>1.0</td>\n",
       "      <td>0.0</td>\n",
       "      <td>0.0</td>\n",
       "      <td>0.0</td>\n",
       "    </tr>\n",
       "    <tr>\n",
       "      <th>1</th>\n",
       "      <td>10.829943</td>\n",
       "      <td>0.175592</td>\n",
       "      <td>1.294219</td>\n",
       "      <td>1.0</td>\n",
       "      <td>0.0</td>\n",
       "      <td>0.0</td>\n",
       "      <td>0.0</td>\n",
       "      <td>0.0</td>\n",
       "    </tr>\n",
       "    <tr>\n",
       "      <th>2</th>\n",
       "      <td>5.091079</td>\n",
       "      <td>0.805153</td>\n",
       "      <td>0.427715</td>\n",
       "      <td>1.0</td>\n",
       "      <td>0.0</td>\n",
       "      <td>0.0</td>\n",
       "      <td>1.0</td>\n",
       "      <td>0.0</td>\n",
       "    </tr>\n",
       "    <tr>\n",
       "      <th>3</th>\n",
       "      <td>2.247564</td>\n",
       "      <td>5.600044</td>\n",
       "      <td>0.362663</td>\n",
       "      <td>1.0</td>\n",
       "      <td>1.0</td>\n",
       "      <td>0.0</td>\n",
       "      <td>1.0</td>\n",
       "      <td>0.0</td>\n",
       "    </tr>\n",
       "    <tr>\n",
       "      <th>4</th>\n",
       "      <td>44.190936</td>\n",
       "      <td>0.566486</td>\n",
       "      <td>2.222767</td>\n",
       "      <td>1.0</td>\n",
       "      <td>1.0</td>\n",
       "      <td>0.0</td>\n",
       "      <td>1.0</td>\n",
       "      <td>0.0</td>\n",
       "    </tr>\n",
       "  </tbody>\n",
       "</table>\n",
       "</div>"
      ],
      "text/plain": [
       "   distance_from_home  distance_from_last_transaction  \\\n",
       "0           57.877857                        0.311140   \n",
       "1           10.829943                        0.175592   \n",
       "2            5.091079                        0.805153   \n",
       "3            2.247564                        5.600044   \n",
       "4           44.190936                        0.566486   \n",
       "\n",
       "   ratio_to_median_purchase_price  repeat_retailer  used_chip  \\\n",
       "0                        1.945940              1.0        1.0   \n",
       "1                        1.294219              1.0        0.0   \n",
       "2                        0.427715              1.0        0.0   \n",
       "3                        0.362663              1.0        1.0   \n",
       "4                        2.222767              1.0        1.0   \n",
       "\n",
       "   used_pin_number  online_order  fraud  \n",
       "0              0.0           0.0    0.0  \n",
       "1              0.0           0.0    0.0  \n",
       "2              0.0           1.0    0.0  \n",
       "3              0.0           1.0    0.0  \n",
       "4              0.0           1.0    0.0  "
      ]
     },
     "execution_count": 2,
     "metadata": {},
     "output_type": "execute_result"
    }
   ],
   "source": [
    "fraud = pd.read_csv(\"https://raw.githubusercontent.com/data-bootcamp-v4/data/main/card_transdata.csv\")\n",
    "fraud.head()"
   ]
  },
  {
   "cell_type": "markdown",
   "metadata": {},
   "source": [
    "**Steps:**"
   ]
  },
  {
   "cell_type": "markdown",
   "metadata": {},
   "source": [
    "- **1.** What is the distribution of our target variable? Can we say we're dealing with an imbalanced dataset?\n",
    "- **2.** Train a LogisticRegression.\n",
    "- **3.** Evaluate your model. Take in consideration class importance, and evaluate it by selection the correct metric.\n",
    "- **4.** Run **Oversample** in order to balance our target variable and repeat the steps above, now with balanced data. Does it improve the performance of our model? \n",
    "- **5.** Now, run **Undersample** in order to balance our target variable and repeat the steps above (1-3), now with balanced data. Does it improve the performance of our model?\n",
    "- **6.** Finally, run **SMOTE** in order to balance our target variable and repeat the steps above (1-3), now with balanced data. Does it improve the performance of our model? "
   ]
  },
  {
   "cell_type": "code",
   "execution_count": 5,
   "metadata": {},
   "outputs": [
    {
     "name": "stdout",
     "output_type": "stream",
     "text": [
      "Distribution of the target variable 'fraud':\n",
      " fraud\n",
      "0.0    91.2597\n",
      "1.0     8.7403\n",
      "Name: proportion, dtype: float64\n"
     ]
    },
    {
     "data": {
      "image/png": "[encoded data removed]",
      "text/plain": [
       "<Figure size 640x480 with 1 Axes>"
      ]
     },
     "metadata": {},
     "output_type": "display_data"
    }
   ],
   "source": [
    "# Check the distribution of the target variable 'fraud'\n",
    "fraud_distribution = fraud['fraud'].value_counts(normalize=True) * 100\n",
    "print(\"Distribution of the target variable 'fraud':\\n\", fraud_distribution)\n",
    "\n",
    "# Plot the distribution\n",
    "sns.countplot(x='fraud', data=fraud)\n",
    "plt.title('Distribution of the Target Variable (Fraud)')\n",
    "plt.show()"
   ]
  },
  {
   "cell_type": "code",
   "execution_count": 7,
   "metadata": {},
   "outputs": [
    {
     "data": {
      "text/html": [
       "<style>#sk-container-id-1 {color: black;background-color: white;}#sk-container-id-1 pre{padding: 0;}#sk-container-id-1 div.sk-toggleable {background-color: white;}#sk-container-id-1 label.sk-toggleable__label {cursor: pointer;display: block;width: 100%;margin-bottom: 0;padding: 0.3em;box-sizing: border-box;text-align: center;}#sk-container-id-1 label.sk-toggleable__label-arrow:before {content: \"▸\";float: left;margin-right: 0.25em;color: #696969;}#sk-container-id-1 label.sk-toggleable__label-arrow:hover:before {color: black;}#sk-container-id-1 div.sk-estimator:hover label.sk-toggleable__label-arrow:before {color: black;}#sk-container-id-1 div.sk-toggleable__content {max-height: 0;max-width: 0;overflow: hidden;text-align: left;background-color: #f0f8ff;}#sk-container-id-1 div.sk-toggleable__content pre {margin: 0.2em;color: black;border-radius: 0.25em;background-color: #f0f8ff;}#sk-container-id-1 input.sk-toggleable__control:checked~div.sk-toggleable__content {max-height: 200px;max-width: 100%;overflow: auto;}#sk-container-id-1 input.sk-toggleable__control:checked~label.sk-toggleable__label-arrow:before {content: \"▾\";}#sk-container-id-1 div.sk-estimator input.sk-toggleable__control:checked~label.sk-toggleable__label {background-color: #d4ebff;}#sk-container-id-1 div.sk-label input.sk-toggleable__control:checked~label.sk-toggleable__label {background-color: #d4ebff;}#sk-container-id-1 input.sk-hidden--visually {border: 0;clip: rect(1px 1px 1px 1px);clip: rect(1px, 1px, 1px, 1px);height: 1px;margin: -1px;overflow: hidden;padding: 0;position: absolute;width: 1px;}#sk-container-id-1 div.sk-estimator {font-family: monospace;background-color: #f0f8ff;border: 1px dotted black;border-radius: 0.25em;box-sizing: border-box;margin-bottom: 0.5em;}#sk-container-id-1 div.sk-estimator:hover {background-color: #d4ebff;}#sk-container-id-1 div.sk-parallel-item::after {content: \"\";width: 100%;border-bottom: 1px solid gray;flex-grow: 1;}#sk-container-id-1 div.sk-label:hover label.sk-toggleable__label {background-color: #d4ebff;}#sk-container-id-1 div.sk-serial::before {content: \"\";position: absolute;border-left: 1px solid gray;box-sizing: border-box;top: 0;bottom: 0;left: 50%;z-index: 0;}#sk-container-id-1 div.sk-serial {display: flex;flex-direction: column;align-items: center;background-color: white;padding-right: 0.2em;padding-left: 0.2em;position: relative;}#sk-container-id-1 div.sk-item {position: relative;z-index: 1;}#sk-container-id-1 div.sk-parallel {display: flex;align-items: stretch;justify-content: center;background-color: white;position: relative;}#sk-container-id-1 div.sk-item::before, #sk-container-id-1 div.sk-parallel-item::before {content: \"\";position: absolute;border-left: 1px solid gray;box-sizing: border-box;top: 0;bottom: 0;left: 50%;z-index: -1;}#sk-container-id-1 div.sk-parallel-item {display: flex;flex-direction: column;z-index: 1;position: relative;background-color: white;}#sk-container-id-1 div.sk-parallel-item:first-child::after {align-self: flex-end;width: 50%;}#sk-container-id-1 div.sk-parallel-item:last-child::after {align-self: flex-start;width: 50%;}#sk-container-id-1 div.sk-parallel-item:only-child::after {width: 0;}#sk-container-id-1 div.sk-dashed-wrapped {border: 1px dashed gray;margin: 0 0.4em 0.5em 0.4em;box-sizing: border-box;padding-bottom: 0.4em;background-color: white;}#sk-container-id-1 div.sk-label label {font-family: monospace;font-weight: bold;display: inline-block;line-height: 1.2em;}#sk-container-id-1 div.sk-label-container {text-align: center;}#sk-container-id-1 div.sk-container {/* jupyter's `normalize.less` sets `[hidden] { display: none; }` but bootstrap.min.css set `[hidden] { display: none !important; }` so we also need the `!important` here to be able to override the default hidden behavior on the sphinx rendered scikit-learn.org. See: https://github.com/scikit-learn/scikit-learn/issues/21755 */display: inline-block !important;position: relative;}#sk-container-id-1 div.sk-text-repr-fallback {display: none;}</style><div id=\"sk-container-id-1\" class=\"sk-top-container\"><div class=\"sk-text-repr-fallback\"><pre>LogisticRegression(random_state=42)</pre><b>In a Jupyter environment, please rerun this cell to show the HTML representation or trust the notebook. <br />On GitHub, the HTML representation is unable to render, please try loading this page with nbviewer.org.</b></div><div class=\"sk-container\" hidden><div class=\"sk-item\"><div class=\"sk-estimator sk-toggleable\"><input class=\"sk-toggleable__control sk-hidden--visually\" id=\"sk-estimator-id-1\" type=\"checkbox\" checked><label for=\"sk-estimator-id-1\" class=\"sk-toggleable__label sk-toggleable__label-arrow\">LogisticRegression</label><div class=\"sk-toggleable__content\"><pre>LogisticRegression(random_state=42)</pre></div></div></div></div></div>"
      ],
      "text/plain": [
       "LogisticRegression(random_state=42)"
      ]
     },
     "execution_count": 7,
     "metadata": {},
     "output_type": "execute_result"
    }
   ],
   "source": [
    "from sklearn.model_selection import train_test_split\n",
    "from sklearn.preprocessing import StandardScaler\n",
    "from sklearn.linear_model import LogisticRegression\n",
    "\n",
    "# Splitting the dataset into features (X) and target (y)\n",
    "X = fraud.drop(columns=['fraud'])\n",
    "y = fraud['fraud']\n",
    "\n",
    "# Split the data into training and testing sets\n",
    "X_train, X_test, y_train, y_test = train_test_split(X, y, test_size=0.3, random_state=42, stratify=y)\n",
    "\n",
    "# Feature scaling\n",
    "scaler = StandardScaler()\n",
    "X_train_scaled = scaler.fit_transform(X_train)\n",
    "X_test_scaled = scaler.transform(X_test)\n",
    "\n",
    "# Train a Logistic Regression model\n",
    "model = LogisticRegression(random_state=42)\n",
    "model.fit(X_train_scaled, y_train)\n"
   ]
  },
  {
   "cell_type": "code",
   "execution_count": 8,
   "metadata": {},
   "outputs": [
    {
     "name": "stdout",
     "output_type": "stream",
     "text": [
      "Classification Report:\n",
      "               precision    recall  f1-score   support\n",
      "\n",
      "         0.0       0.96      0.99      0.98    273779\n",
      "         1.0       0.90      0.60      0.72     26221\n",
      "\n",
      "    accuracy                           0.96    300000\n",
      "   macro avg       0.93      0.80      0.85    300000\n",
      "weighted avg       0.96      0.96      0.96    300000\n",
      "\n",
      "Confusion Matrix:\n",
      " [[271938   1841]\n",
      " [ 10398  15823]]\n",
      "ROC AUC Score:  0.7983616082613311\n"
     ]
    }
   ],
   "source": [
    "from sklearn.metrics import classification_report, confusion_matrix, roc_auc_score\n",
    "\n",
    "# Predictions\n",
    "y_pred = model.predict(X_test_scaled)\n",
    "\n",
    "# Evaluate the model\n",
    "print(\"Classification Report:\\n\", classification_report(y_test, y_pred))\n",
    "print(\"Confusion Matrix:\\n\", confusion_matrix(y_test, y_pred))\n",
    "print(\"ROC AUC Score: \", roc_auc_score(y_test, y_pred))\n"
   ]
  },
  {
   "cell_type": "code",
   "execution_count": 12,
   "metadata": {},
   "outputs": [
    {
     "name": "stdout",
     "output_type": "stream",
     "text": [
      "Classification Report (Oversampled):\n",
      "               precision    recall  f1-score   support\n",
      "\n",
      "         0.0       0.99      0.93      0.96    273779\n",
      "         1.0       0.58      0.95      0.72     26221\n",
      "\n",
      "    accuracy                           0.93    300000\n",
      "   macro avg       0.79      0.94      0.84    300000\n",
      "weighted avg       0.96      0.93      0.94    300000\n",
      "\n",
      "Confusion Matrix (Oversampled):\n",
      " [[255518  18261]\n",
      " [  1357  24864]]\n",
      "ROC AUC Score (Oversampled):  0.9407739022046778\n"
     ]
    }
   ],
   "source": [
    "from imblearn.over_sampling import RandomOverSampler\n",
    "\n",
    "# Oversampling\n",
    "ros = RandomOverSampler(random_state=42)\n",
    "X_res, y_res = ros.fit_resample(X_train_scaled, y_train)\n",
    "\n",
    "# Train the model again with oversampled data\n",
    "model_res = LogisticRegression(random_state=42)\n",
    "model_res.fit(X_res, y_res)\n",
    "\n",
    "# Predictions on the test set\n",
    "y_pred_res = model_res.predict(X_test_scaled)\n",
    "\n",
    "# Evaluate the model\n",
    "print(\"Classification Report (Oversampled):\\n\", classification_report(y_test, y_pred_res))\n",
    "print(\"Confusion Matrix (Oversampled):\\n\", confusion_matrix(y_test, y_pred_res))\n",
    "print(\"ROC AUC Score (Oversampled): \", roc_auc_score(y_test, y_pred_res))\n"
   ]
  },
  {
   "cell_type": "code",
   "execution_count": 10,
   "metadata": {},
   "outputs": [
    {
     "name": "stdout",
     "output_type": "stream",
     "text": [
      "Classification Report (Undersampled):\n",
      "               precision    recall  f1-score   support\n",
      "\n",
      "         0.0       0.99      0.93      0.96    273779\n",
      "         1.0       0.58      0.95      0.72     26221\n",
      "\n",
      "    accuracy                           0.93    300000\n",
      "   macro avg       0.79      0.94      0.84    300000\n",
      "weighted avg       0.96      0.93      0.94    300000\n",
      "\n",
      "Confusion Matrix (Undersampled):\n",
      " [[255526  18253]\n",
      " [  1324  24897]]\n",
      "ROC AUC Score (Undersampled):  0.9414177791474226\n"
     ]
    }
   ],
   "source": [
    "from imblearn.under_sampling import RandomUnderSampler\n",
    "\n",
    "# Undersampling\n",
    "rus = RandomUnderSampler(random_state=42)\n",
    "X_res, y_res = rus.fit_resample(X_train_scaled, y_train)\n",
    "\n",
    "# Train the model again with undersampled data\n",
    "model_res = LogisticRegression(random_state=42)\n",
    "model_res.fit(X_res, y_res)\n",
    "\n",
    "# Predictions on the test set\n",
    "y_pred_res = model_res.predict(X_test_scaled)\n",
    "\n",
    "# Evaluate the model\n",
    "print(\"Classification Report (Undersampled):\\n\", classification_report(y_test, y_pred_res))\n",
    "print(\"Confusion Matrix (Undersampled):\\n\", confusion_matrix(y_test, y_pred_res))\n",
    "print(\"ROC AUC Score (Undersampled): \", roc_auc_score(y_test, y_pred_res))\n"
   ]
  },
  {
   "cell_type": "code",
   "execution_count": 11,
   "metadata": {},
   "outputs": [
    {
     "name": "stdout",
     "output_type": "stream",
     "text": [
      "Classification Report (SMOTE):\n",
      "               precision    recall  f1-score   support\n",
      "\n",
      "         0.0       0.99      0.93      0.96    273779\n",
      "         1.0       0.58      0.95      0.72     26221\n",
      "\n",
      "    accuracy                           0.93    300000\n",
      "   macro avg       0.79      0.94      0.84    300000\n",
      "weighted avg       0.96      0.93      0.94    300000\n",
      "\n",
      "Confusion Matrix (SMOTE):\n",
      " [[255468  18311]\n",
      " [  1353  24868]]\n",
      "ROC AUC Score (SMOTE):  0.9407588624188861\n"
     ]
    }
   ],
   "source": [
    "from imblearn.over_sampling import SMOTE\n",
    "\n",
    "# SMOTE\n",
    "smote = SMOTE(random_state=42)\n",
    "X_res, y_res = smote.fit_resample(X_train_scaled, y_train)\n",
    "\n",
    "# Train the model again with SMOTE data\n",
    "model_res = LogisticRegression(random_state=42)\n",
    "model_res.fit(X_res, y_res)\n",
    "\n",
    "# Predictions on the test set\n",
    "y_pred_res = model_res.predict(X_test_scaled)\n",
    "\n",
    "# Evaluate the model\n",
    "print(\"Classification Report (SMOTE):\\n\", classification_report(y_test, y_pred_res))\n",
    "print(\"Confusion Matrix (SMOTE):\\n\", confusion_matrix(y_test, y_pred_res))\n",
    "print(\"ROC AUC Score (SMOTE): \", roc_auc_score(y_test, y_pred_res))\n"
   ]
  },
  {
   "cell_type": "markdown",
   "metadata": {},
   "source": [
    "### Interpretation of Results\n",
    "\n",
    "#### 1. Distribution of the Target Variable (Fraud)\n",
    "\n",
    "- **Visualization**: The bar chart clearly shows that the dataset is highly imbalanced, with a significant majority of transactions labeled as non-fraudulent (0.0) and a much smaller number labeled as fraudulent (1.0).\n",
    "- **Imbalance**: The large discrepancy between the two classes suggests that the dataset is indeed imbalanced, which can lead to the model being biased towards the majority class. This imbalance often makes it challenging for the model to correctly identify fraudulent transactions.\n",
    "\n",
    "#### 2. Initial Model (Before Balancing)\n",
    "\n",
    "**Classification Report**:\n",
    "- **Precision (0.0)**: 0.96 - This indicates that 96% of the transactions predicted as non-fraudulent are actually non-fraudulent.\n",
    "- **Recall (0.0)**: 0.99 - This means that the model correctly identifies 99% of all non-fraudulent transactions.\n",
    "- **F1-score (0.0)**: 0.98 - A high F1-score for the majority class (0.0) suggests that the model is performing well for non-fraudulent transactions.\n",
    "- **Precision (1.0)**: 0.90 - 90% of transactions predicted as fraudulent are actually fraudulent.\n",
    "- **Recall (1.0)**: 0.60 - The model correctly identifies only 60% of the actual fraudulent transactions, which is relatively low.\n",
    "- **F1-score (1.0)**: 0.72 - The F1-score is moderate, reflecting the trade-off between precision and recall.\n",
    "\n",
    "**Confusion Matrix**:\n",
    "- **True Negatives (TN)**: 271,938 - The model correctly identified 271,938 non-fraudulent transactions.\n",
    "- **False Positives (FP)**: 1,841 - The model incorrectly flagged 1,841 non-fraudulent transactions as fraudulent.\n",
    "- **False Negatives (FN)**: 10,398 - The model missed 10,398 fraudulent transactions.\n",
    "- **True Positives (TP)**: 15,823 - The model correctly identified 15,823 fraudulent transactions.\n",
    "\n",
    "**ROC AUC Score**:\n",
    "- **ROC AUC**: 0.798 - The model has a reasonable ability to distinguish between fraudulent and non-fraudulent transactions, but there is room for improvement.\n",
    "\n",
    "#### 3. Oversampled Model\n",
    "\n",
    "**Classification Report**:\n",
    "- **Precision (1.0)**: 0.58 - Precision for fraudulent transactions has decreased, meaning more non-fraudulent transactions are being misclassified as fraudulent.\n",
    "- **Recall (1.0)**: 0.95 - Recall has significantly improved, meaning the model is now correctly identifying 95% of fraudulent transactions.\n",
    "- **F1-score (1.0)**: 0.72 - The F1-score remains similar to the initial model, indicating a balanced trade-off between precision and recall.\n",
    "\n",
    "**Confusion Matrix**:\n",
    "- **True Positives (TP)**: 24,864 - The model now correctly identifies a much higher number of fraudulent transactions, nearly double the previous count.\n",
    "- **False Negatives (FN)**: 1,357 - The number of missed fraudulent transactions has significantly decreased.\n",
    "\n",
    "**ROC AUC Score**:\n",
    "- **ROC AUC**: 0.941 - The ROC AUC score has improved significantly, indicating that the oversampled model has a much better ability to distinguish between fraudulent and non-fraudulent transactions.\n",
    "\n",
    "#### 4. Undersampled Model\n",
    "\n",
    "**Classification Report**:\n",
    "- **Precision (1.0)**: 0.58 - The precision for fraudulent transactions remains consistent with the oversampled model.\n",
    "- **Recall (1.0)**: 0.95 - Recall is still high, at 95%.\n",
    "- **F1-score (1.0)**: 0.72 - The F1-score remains consistent with the previous models.\n",
    "\n",
    "**Confusion Matrix**:\n",
    "- **True Positives (TP)**: 24,897 - Similar to the oversampled model, the undersampled model also correctly identifies a high number of fraudulent transactions.\n",
    "- **False Negatives (FN)**: 1,324 - Slightly fewer fraudulent transactions are missed compared to the oversampled model.\n",
    "\n",
    "**ROC AUC Score**:\n",
    "- **ROC AUC**: 0.941 - The ROC AUC score is nearly identical to the oversampled model, suggesting that undersampling is also effective.\n",
    "\n",
    "#### 5. SMOTE Model\n",
    "\n",
    "**Classification Report**:\n",
    "- **Precision (1.0)**: 0.58 - Precision for fraudulent transactions remains the same as in the oversampled and undersampled models.\n",
    "- **Recall (1.0)**: 0.95 - Recall is consistent, with the model identifying 95% of fraudulent transactions.\n",
    "- **F1-score (1.0)**: 0.72 - The F1-score remains consistent, indicating a balanced trade-off.\n",
    "\n",
    "**Confusion Matrix**:\n",
    "- **True Positives (TP)**: 24,868 - The SMOTE model also performs similarly in terms of correctly identifying fraudulent transactions.\n",
    "- **False Negatives (FN)**: 1,353 - The number of missed fraudulent transactions is very similar to the other balanced models.\n",
    "\n",
    "**ROC AUC Score**:\n",
    "- **ROC AUC**: 0.941 - The ROC AUC score is again very similar to the previous balanced models, showing that SMOTE is also effective in improving model performance.\n",
    "\n",
    "### Conclusion:\n",
    "- **Initial Model**: The initial Logistic Regression model performed well on non-fraudulent transactions but struggled with detecting fraudulent transactions due to the imbalance in the dataset.\n",
    "- **Oversampling, Undersampling, and SMOTE**: All three techniques significantly improved the model's ability to identify fraudulent transactions (increased recall), although with a trade-off in precision. The ROC AUC score increased notably, indicating better overall performance.\n",
    "- **Best Approach**: While all three balancing techniques showed improvement, oversampling and SMOTE might be preferable due to their ability to retain more data (compared to undersampling). This often leads to better model generalization.\n",
    "\n",
    "Let me know if you need any further assistance or if you want to explore any specific aspect of this analysis!"
   ]
  }
 ],
 "metadata": {
  "kernelspec": {
   "display_name": "Python 3",
   "language": "python",
   "name": "python3"
  },
  "language_info": {
   "codemirror_mode": {
    "name": "ipython",
    "version": 3
   },
   "file_extension": ".py",
   "mimetype": "text/x-python",
   "name": "python",
   "nbconvert_exporter": "python",
   "pygments_lexer": "ipython3",
   "version": "3.11.7"
  }
 },
 "nbformat": 4,
 "nbformat_minor": 2
}
